{
 "cells": [
  {
   "cell_type": "code",
   "execution_count": 2,
   "id": "5cfd9625",
   "metadata": {},
   "outputs": [],
   "source": [
    "import numpy as np \n",
    "#useful for doing some mathematical caluculations\n",
    "import pandas as pd #reading csv files and operations on dataframe\n",
    "import seaborn as sns #used for various graphs for EDA (Exploratory data analysis)\n",
    "import matplotlib.pyplot"
   ]
  },
  {
   "cell_type": "code",
   "execution_count": 71,
   "id": "5a0b22dc",
   "metadata": {},
   "outputs": [],
   "source": [
    "from matplotlib import pyplot as plt"
   ]
  },
  {
   "cell_type": "code",
   "execution_count": 72,
   "id": "2f8b4208",
   "metadata": {},
   "outputs": [
    {
     "name": "stdout",
     "output_type": "stream",
     "text": [
      "Numpy_version 1.23.5\n",
      "Pandas_version 1.5.3\n",
      "Seaborn_version 0.12.2\n",
      "Matplotlib_version 3.7.0\n"
     ]
    }
   ],
   "source": [
    "print('Numpy_version',np.__version__)\n",
    "print('Pandas_version',pd.__version__)\n",
    "print('Seaborn_version',sns.__version__)\n",
    "print('Matplotlib_version',matplotlib.__version__)"
   ]
  },
  {
   "cell_type": "code",
   "execution_count": 73,
   "id": "6366398b",
   "metadata": {},
   "outputs": [],
   "source": [
    "sns.set()\n",
    "sns.set_palette(palette='deep') #set the color palette which impact ton how the graph look like"
   ]
  },
  {
   "cell_type": "code",
   "execution_count": 74,
   "id": "7852d86a",
   "metadata": {
    "scrolled": true
   },
   "outputs": [
    {
     "name": "stdout",
     "output_type": "stream",
     "text": [
      "Requirement already satisfied: folium in /home/nanthini/anaconda3/lib/python3.10/site-packages (0.14.0)\r\n",
      "Requirement already satisfied: numpy in /home/nanthini/anaconda3/lib/python3.10/site-packages (from folium) (1.23.5)\r\n",
      "Requirement already satisfied: branca>=0.6.0 in /home/nanthini/anaconda3/lib/python3.10/site-packages (from folium) (0.6.0)\r\n",
      "Requirement already satisfied: jinja2>=2.9 in /home/nanthini/anaconda3/lib/python3.10/site-packages (from folium) (3.1.2)\r\n",
      "Requirement already satisfied: requests in /home/nanthini/anaconda3/lib/python3.10/site-packages (from folium) (2.28.1)\r\n",
      "Requirement already satisfied: MarkupSafe>=2.0 in /home/nanthini/anaconda3/lib/python3.10/site-packages (from jinja2>=2.9->folium) (2.1.1)\r\n",
      "Requirement already satisfied: certifi>=2017.4.17 in /home/nanthini/anaconda3/lib/python3.10/site-packages (from requests->folium) (2023.5.7)\r\n",
      "Requirement already satisfied: charset-normalizer<3,>=2 in /home/nanthini/anaconda3/lib/python3.10/site-packages (from requests->folium) (2.0.4)\r\n",
      "Requirement already satisfied: urllib3<1.27,>=1.21.1 in /home/nanthini/anaconda3/lib/python3.10/site-packages (from requests->folium) (1.26.14)\r\n",
      "Requirement already satisfied: idna<4,>=2.5 in /home/nanthini/anaconda3/lib/python3.10/site-packages (from requests->folium) (3.4)\r\n"
     ]
    }
   ],
   "source": [
    "!pip install folium"
   ]
  },
  {
   "cell_type": "code",
   "execution_count": 75,
   "id": "2e0ef97a",
   "metadata": {},
   "outputs": [],
   "source": [
    "import folium #this is useful for displaying interactive map\n",
    "from folium import plugins"
   ]
  },
  {
   "cell_type": "markdown",
   "id": "811057c8",
   "metadata": {},
   "source": [
    "Read the Data"
   ]
  },
  {
   "cell_type": "code",
   "execution_count": 3,
   "id": "af2b8cfb",
   "metadata": {},
   "outputs": [
    {
     "data": {
      "text/html": [
       "<div>\n",
       "<style scoped>\n",
       "    .dataframe tbody tr th:only-of-type {\n",
       "        vertical-align: middle;\n",
       "    }\n",
       "\n",
       "    .dataframe tbody tr th {\n",
       "        vertical-align: top;\n",
       "    }\n",
       "\n",
       "    .dataframe thead th {\n",
       "        text-align: right;\n",
       "    }\n",
       "</style>\n",
       "<table border=\"1\" class=\"dataframe\">\n",
       "  <thead>\n",
       "    <tr style=\"text-align: right;\">\n",
       "      <th></th>\n",
       "      <th>cid</th>\n",
       "      <th>dayhours</th>\n",
       "      <th>price</th>\n",
       "      <th>room_bed</th>\n",
       "      <th>room_bath</th>\n",
       "      <th>living_measure</th>\n",
       "      <th>lot_measure</th>\n",
       "      <th>ceil</th>\n",
       "      <th>coast</th>\n",
       "      <th>sight</th>\n",
       "      <th>...</th>\n",
       "      <th>basement</th>\n",
       "      <th>yr_built</th>\n",
       "      <th>yr_renovated</th>\n",
       "      <th>zipcode</th>\n",
       "      <th>lat</th>\n",
       "      <th>long</th>\n",
       "      <th>living_measure15</th>\n",
       "      <th>lot_measure15</th>\n",
       "      <th>furnished</th>\n",
       "      <th>total_area</th>\n",
       "    </tr>\n",
       "  </thead>\n",
       "  <tbody>\n",
       "    <tr>\n",
       "      <th>0</th>\n",
       "      <td>3876100940</td>\n",
       "      <td>20150427T000000</td>\n",
       "      <td>600000</td>\n",
       "      <td>4.0</td>\n",
       "      <td>1.75</td>\n",
       "      <td>3050.0</td>\n",
       "      <td>9440.0</td>\n",
       "      <td>1</td>\n",
       "      <td>0</td>\n",
       "      <td>0.0</td>\n",
       "      <td>...</td>\n",
       "      <td>1250.0</td>\n",
       "      <td>1966</td>\n",
       "      <td>0</td>\n",
       "      <td>98034</td>\n",
       "      <td>47.7228</td>\n",
       "      <td>-122.183</td>\n",
       "      <td>2020.0</td>\n",
       "      <td>8660.0</td>\n",
       "      <td>0.0</td>\n",
       "      <td>12490</td>\n",
       "    </tr>\n",
       "    <tr>\n",
       "      <th>1</th>\n",
       "      <td>3145600250</td>\n",
       "      <td>20150317T000000</td>\n",
       "      <td>190000</td>\n",
       "      <td>2.0</td>\n",
       "      <td>1.00</td>\n",
       "      <td>670.0</td>\n",
       "      <td>3101.0</td>\n",
       "      <td>1</td>\n",
       "      <td>0</td>\n",
       "      <td>0.0</td>\n",
       "      <td>...</td>\n",
       "      <td>0.0</td>\n",
       "      <td>1948</td>\n",
       "      <td>0</td>\n",
       "      <td>98118</td>\n",
       "      <td>47.5546</td>\n",
       "      <td>-122.274</td>\n",
       "      <td>1660.0</td>\n",
       "      <td>4100.0</td>\n",
       "      <td>0.0</td>\n",
       "      <td>3771</td>\n",
       "    </tr>\n",
       "    <tr>\n",
       "      <th>2</th>\n",
       "      <td>7129303070</td>\n",
       "      <td>20140820T000000</td>\n",
       "      <td>735000</td>\n",
       "      <td>4.0</td>\n",
       "      <td>2.75</td>\n",
       "      <td>3040.0</td>\n",
       "      <td>2415.0</td>\n",
       "      <td>2</td>\n",
       "      <td>1</td>\n",
       "      <td>4.0</td>\n",
       "      <td>...</td>\n",
       "      <td>0.0</td>\n",
       "      <td>1966</td>\n",
       "      <td>0</td>\n",
       "      <td>98118</td>\n",
       "      <td>47.5188</td>\n",
       "      <td>-122.256</td>\n",
       "      <td>2620.0</td>\n",
       "      <td>2433.0</td>\n",
       "      <td>0.0</td>\n",
       "      <td>5455</td>\n",
       "    </tr>\n",
       "    <tr>\n",
       "      <th>3</th>\n",
       "      <td>7338220280</td>\n",
       "      <td>20141010T000000</td>\n",
       "      <td>257000</td>\n",
       "      <td>3.0</td>\n",
       "      <td>2.50</td>\n",
       "      <td>1740.0</td>\n",
       "      <td>3721.0</td>\n",
       "      <td>2</td>\n",
       "      <td>0</td>\n",
       "      <td>0.0</td>\n",
       "      <td>...</td>\n",
       "      <td>0.0</td>\n",
       "      <td>2009</td>\n",
       "      <td>0</td>\n",
       "      <td>98002</td>\n",
       "      <td>47.3363</td>\n",
       "      <td>-122.213</td>\n",
       "      <td>2030.0</td>\n",
       "      <td>3794.0</td>\n",
       "      <td>0.0</td>\n",
       "      <td>5461</td>\n",
       "    </tr>\n",
       "    <tr>\n",
       "      <th>4</th>\n",
       "      <td>7950300670</td>\n",
       "      <td>20150218T000000</td>\n",
       "      <td>450000</td>\n",
       "      <td>2.0</td>\n",
       "      <td>1.00</td>\n",
       "      <td>1120.0</td>\n",
       "      <td>4590.0</td>\n",
       "      <td>1</td>\n",
       "      <td>0</td>\n",
       "      <td>0.0</td>\n",
       "      <td>...</td>\n",
       "      <td>0.0</td>\n",
       "      <td>1924</td>\n",
       "      <td>0</td>\n",
       "      <td>98118</td>\n",
       "      <td>47.5663</td>\n",
       "      <td>-122.285</td>\n",
       "      <td>1120.0</td>\n",
       "      <td>5100.0</td>\n",
       "      <td>0.0</td>\n",
       "      <td>5710</td>\n",
       "    </tr>\n",
       "  </tbody>\n",
       "</table>\n",
       "<p>5 rows × 23 columns</p>\n",
       "</div>"
      ],
      "text/plain": [
       "          cid         dayhours   price  room_bed  room_bath  living_measure  \\\n",
       "0  3876100940  20150427T000000  600000       4.0       1.75          3050.0   \n",
       "1  3145600250  20150317T000000  190000       2.0       1.00           670.0   \n",
       "2  7129303070  20140820T000000  735000       4.0       2.75          3040.0   \n",
       "3  7338220280  20141010T000000  257000       3.0       2.50          1740.0   \n",
       "4  7950300670  20150218T000000  450000       2.0       1.00          1120.0   \n",
       "\n",
       "   lot_measure ceil coast  sight  ... basement  yr_built  yr_renovated  \\\n",
       "0       9440.0    1     0    0.0  ...   1250.0      1966             0   \n",
       "1       3101.0    1     0    0.0  ...      0.0      1948             0   \n",
       "2       2415.0    2     1    4.0  ...      0.0      1966             0   \n",
       "3       3721.0    2     0    0.0  ...      0.0      2009             0   \n",
       "4       4590.0    1     0    0.0  ...      0.0      1924             0   \n",
       "\n",
       "   zipcode      lat      long  living_measure15  lot_measure15 furnished  \\\n",
       "0    98034  47.7228  -122.183            2020.0         8660.0       0.0   \n",
       "1    98118  47.5546  -122.274            1660.0         4100.0       0.0   \n",
       "2    98118  47.5188  -122.256            2620.0         2433.0       0.0   \n",
       "3    98002  47.3363  -122.213            2030.0         3794.0       0.0   \n",
       "4    98118  47.5663  -122.285            1120.0         5100.0       0.0   \n",
       "\n",
       "   total_area  \n",
       "0       12490  \n",
       "1        3771  \n",
       "2        5455  \n",
       "3        5461  \n",
       "4        5710  \n",
       "\n",
       "[5 rows x 23 columns]"
      ]
     },
     "execution_count": 3,
     "metadata": {},
     "output_type": "execute_result"
    }
   ],
   "source": [
    "import os\n",
    "os.chdir('/home/nanthini/Documents/Data Science MBA/Project Work/Capstone Project')\n",
    "data=pd.read_csv('innercity.csv')\n",
    "data.head()"
   ]
  },
  {
   "cell_type": "code",
   "execution_count": 77,
   "id": "47c8cd8c",
   "metadata": {},
   "outputs": [],
   "source": [
    "#to view all the columns in python code set in pandas to display max columns\n",
    "pd.options.display.max_columns = None"
   ]
  },
  {
   "cell_type": "code",
   "execution_count": 78,
   "id": "5bc276c9",
   "metadata": {},
   "outputs": [
    {
     "data": {
      "text/html": [
       "<div>\n",
       "<style scoped>\n",
       "    .dataframe tbody tr th:only-of-type {\n",
       "        vertical-align: middle;\n",
       "    }\n",
       "\n",
       "    .dataframe tbody tr th {\n",
       "        vertical-align: top;\n",
       "    }\n",
       "\n",
       "    .dataframe thead th {\n",
       "        text-align: right;\n",
       "    }\n",
       "</style>\n",
       "<table border=\"1\" class=\"dataframe\">\n",
       "  <thead>\n",
       "    <tr style=\"text-align: right;\">\n",
       "      <th></th>\n",
       "      <th>cid</th>\n",
       "      <th>dayhours</th>\n",
       "      <th>price</th>\n",
       "      <th>room_bed</th>\n",
       "      <th>room_bath</th>\n",
       "      <th>living_measure</th>\n",
       "      <th>lot_measure</th>\n",
       "      <th>ceil</th>\n",
       "      <th>coast</th>\n",
       "      <th>sight</th>\n",
       "      <th>condition</th>\n",
       "      <th>quality</th>\n",
       "      <th>ceil_measure</th>\n",
       "      <th>basement</th>\n",
       "      <th>yr_built</th>\n",
       "      <th>yr_renovated</th>\n",
       "      <th>zipcode</th>\n",
       "      <th>lat</th>\n",
       "      <th>long</th>\n",
       "      <th>living_measure15</th>\n",
       "      <th>lot_measure15</th>\n",
       "      <th>furnished</th>\n",
       "      <th>total_area</th>\n",
       "    </tr>\n",
       "  </thead>\n",
       "  <tbody>\n",
       "    <tr>\n",
       "      <th>0</th>\n",
       "      <td>3876100940</td>\n",
       "      <td>20150427T000000</td>\n",
       "      <td>600000</td>\n",
       "      <td>4.0</td>\n",
       "      <td>1.75</td>\n",
       "      <td>3050.0</td>\n",
       "      <td>9440.0</td>\n",
       "      <td>1</td>\n",
       "      <td>0</td>\n",
       "      <td>0.0</td>\n",
       "      <td>3</td>\n",
       "      <td>8.0</td>\n",
       "      <td>1800.0</td>\n",
       "      <td>1250.0</td>\n",
       "      <td>1966</td>\n",
       "      <td>0</td>\n",
       "      <td>98034</td>\n",
       "      <td>47.7228</td>\n",
       "      <td>-122.183</td>\n",
       "      <td>2020.0</td>\n",
       "      <td>8660.0</td>\n",
       "      <td>0.0</td>\n",
       "      <td>12490</td>\n",
       "    </tr>\n",
       "    <tr>\n",
       "      <th>1</th>\n",
       "      <td>3145600250</td>\n",
       "      <td>20150317T000000</td>\n",
       "      <td>190000</td>\n",
       "      <td>2.0</td>\n",
       "      <td>1.00</td>\n",
       "      <td>670.0</td>\n",
       "      <td>3101.0</td>\n",
       "      <td>1</td>\n",
       "      <td>0</td>\n",
       "      <td>0.0</td>\n",
       "      <td>4</td>\n",
       "      <td>6.0</td>\n",
       "      <td>670.0</td>\n",
       "      <td>0.0</td>\n",
       "      <td>1948</td>\n",
       "      <td>0</td>\n",
       "      <td>98118</td>\n",
       "      <td>47.5546</td>\n",
       "      <td>-122.274</td>\n",
       "      <td>1660.0</td>\n",
       "      <td>4100.0</td>\n",
       "      <td>0.0</td>\n",
       "      <td>3771</td>\n",
       "    </tr>\n",
       "    <tr>\n",
       "      <th>2</th>\n",
       "      <td>7129303070</td>\n",
       "      <td>20140820T000000</td>\n",
       "      <td>735000</td>\n",
       "      <td>4.0</td>\n",
       "      <td>2.75</td>\n",
       "      <td>3040.0</td>\n",
       "      <td>2415.0</td>\n",
       "      <td>2</td>\n",
       "      <td>1</td>\n",
       "      <td>4.0</td>\n",
       "      <td>3</td>\n",
       "      <td>8.0</td>\n",
       "      <td>3040.0</td>\n",
       "      <td>0.0</td>\n",
       "      <td>1966</td>\n",
       "      <td>0</td>\n",
       "      <td>98118</td>\n",
       "      <td>47.5188</td>\n",
       "      <td>-122.256</td>\n",
       "      <td>2620.0</td>\n",
       "      <td>2433.0</td>\n",
       "      <td>0.0</td>\n",
       "      <td>5455</td>\n",
       "    </tr>\n",
       "    <tr>\n",
       "      <th>3</th>\n",
       "      <td>7338220280</td>\n",
       "      <td>20141010T000000</td>\n",
       "      <td>257000</td>\n",
       "      <td>3.0</td>\n",
       "      <td>2.50</td>\n",
       "      <td>1740.0</td>\n",
       "      <td>3721.0</td>\n",
       "      <td>2</td>\n",
       "      <td>0</td>\n",
       "      <td>0.0</td>\n",
       "      <td>3</td>\n",
       "      <td>8.0</td>\n",
       "      <td>1740.0</td>\n",
       "      <td>0.0</td>\n",
       "      <td>2009</td>\n",
       "      <td>0</td>\n",
       "      <td>98002</td>\n",
       "      <td>47.3363</td>\n",
       "      <td>-122.213</td>\n",
       "      <td>2030.0</td>\n",
       "      <td>3794.0</td>\n",
       "      <td>0.0</td>\n",
       "      <td>5461</td>\n",
       "    </tr>\n",
       "    <tr>\n",
       "      <th>4</th>\n",
       "      <td>7950300670</td>\n",
       "      <td>20150218T000000</td>\n",
       "      <td>450000</td>\n",
       "      <td>2.0</td>\n",
       "      <td>1.00</td>\n",
       "      <td>1120.0</td>\n",
       "      <td>4590.0</td>\n",
       "      <td>1</td>\n",
       "      <td>0</td>\n",
       "      <td>0.0</td>\n",
       "      <td>3</td>\n",
       "      <td>7.0</td>\n",
       "      <td>1120.0</td>\n",
       "      <td>0.0</td>\n",
       "      <td>1924</td>\n",
       "      <td>0</td>\n",
       "      <td>98118</td>\n",
       "      <td>47.5663</td>\n",
       "      <td>-122.285</td>\n",
       "      <td>1120.0</td>\n",
       "      <td>5100.0</td>\n",
       "      <td>0.0</td>\n",
       "      <td>5710</td>\n",
       "    </tr>\n",
       "  </tbody>\n",
       "</table>\n",
       "</div>"
      ],
      "text/plain": [
       "          cid         dayhours   price  room_bed  room_bath  living_measure  \\\n",
       "0  3876100940  20150427T000000  600000       4.0       1.75          3050.0   \n",
       "1  3145600250  20150317T000000  190000       2.0       1.00           670.0   \n",
       "2  7129303070  20140820T000000  735000       4.0       2.75          3040.0   \n",
       "3  7338220280  20141010T000000  257000       3.0       2.50          1740.0   \n",
       "4  7950300670  20150218T000000  450000       2.0       1.00          1120.0   \n",
       "\n",
       "   lot_measure ceil coast  sight condition  quality  ceil_measure  basement  \\\n",
       "0       9440.0    1     0    0.0         3      8.0        1800.0    1250.0   \n",
       "1       3101.0    1     0    0.0         4      6.0         670.0       0.0   \n",
       "2       2415.0    2     1    4.0         3      8.0        3040.0       0.0   \n",
       "3       3721.0    2     0    0.0         3      8.0        1740.0       0.0   \n",
       "4       4590.0    1     0    0.0         3      7.0        1120.0       0.0   \n",
       "\n",
       "  yr_built  yr_renovated  zipcode      lat      long  living_measure15  \\\n",
       "0     1966             0    98034  47.7228  -122.183            2020.0   \n",
       "1     1948             0    98118  47.5546  -122.274            1660.0   \n",
       "2     1966             0    98118  47.5188  -122.256            2620.0   \n",
       "3     2009             0    98002  47.3363  -122.213            2030.0   \n",
       "4     1924             0    98118  47.5663  -122.285            1120.0   \n",
       "\n",
       "   lot_measure15  furnished total_area  \n",
       "0         8660.0        0.0      12490  \n",
       "1         4100.0        0.0       3771  \n",
       "2         2433.0        0.0       5455  \n",
       "3         3794.0        0.0       5461  \n",
       "4         5100.0        0.0       5710  "
      ]
     },
     "execution_count": 78,
     "metadata": {},
     "output_type": "execute_result"
    }
   ],
   "source": [
    "data.head()"
   ]
  },
  {
   "cell_type": "code",
   "execution_count": 79,
   "id": "34e16fba",
   "metadata": {},
   "outputs": [
    {
     "data": {
      "text/plain": [
       "(21613, 23)"
      ]
     },
     "execution_count": 79,
     "metadata": {},
     "output_type": "execute_result"
    }
   ],
   "source": [
    "#checking the shape of the data : Number of columns and rows\n",
    "data.shape"
   ]
  },
  {
   "cell_type": "markdown",
   "id": "28b42656",
   "metadata": {},
   "source": [
    "Analysis of Data starts here"
   ]
  },
  {
   "cell_type": "code",
   "execution_count": 80,
   "id": "c16ff461",
   "metadata": {},
   "outputs": [
    {
     "name": "stdout",
     "output_type": "stream",
     "text": [
      "Categorical variables: 7\n",
      "Integer variables: 4\n",
      "Float variables: 12\n"
     ]
    }
   ],
   "source": [
    "#Categorize the features depending on their datatype (int, float, object) and then calculate the number of them. \n",
    "\n",
    "\n",
    "obj = (data.dtypes == 'object')\n",
    "object_cols = list(obj[obj].index)\n",
    "print(\"Categorical variables:\",len(object_cols))\n",
    " \n",
    "int_ = (data.dtypes == 'int')\n",
    "num_cols = list(int_[int_].index)\n",
    "print(\"Integer variables:\",len(num_cols))\n",
    " \n",
    "fl = (data.dtypes == 'float')\n",
    "fl_cols = list(fl[fl].index)\n",
    "print(\"Float variables:\",len(fl_cols))"
   ]
  },
  {
   "cell_type": "code",
   "execution_count": 81,
   "id": "6e526341",
   "metadata": {},
   "outputs": [
    {
     "data": {
      "text/plain": [
       "2014    559\n",
       "2006    454\n",
       "2005    450\n",
       "2004    433\n",
       "2003    421\n",
       "       ... \n",
       "1901     29\n",
       "1902     27\n",
       "1935     24\n",
       "1934     21\n",
       "$        14\n",
       "Name: yr_built, Length: 117, dtype: int64"
      ]
     },
     "execution_count": 81,
     "metadata": {},
     "output_type": "execute_result"
    }
   ],
   "source": [
    "data[\"yr_built\"].value_counts()"
   ]
  },
  {
   "cell_type": "code",
   "execution_count": 82,
   "id": "b804b8d3",
   "metadata": {},
   "outputs": [
    {
     "data": {
      "text/plain": [
       "98103    602\n",
       "98038    590\n",
       "98115    583\n",
       "98052    574\n",
       "98117    553\n",
       "        ... \n",
       "98102    105\n",
       "98010    100\n",
       "98024     81\n",
       "98148     57\n",
       "98039     50\n",
       "Name: zipcode, Length: 70, dtype: int64"
      ]
     },
     "execution_count": 82,
     "metadata": {},
     "output_type": "execute_result"
    }
   ],
   "source": [
    "data[\"zipcode\"].value_counts()"
   ]
  },
  {
   "cell_type": "code",
   "execution_count": 83,
   "id": "58130dc8",
   "metadata": {},
   "outputs": [
    {
     "name": "stdout",
     "output_type": "stream",
     "text": [
      "<class 'pandas.core.frame.DataFrame'>\n",
      "RangeIndex: 21613 entries, 0 to 21612\n",
      "Data columns (total 23 columns):\n",
      " #   Column            Non-Null Count  Dtype  \n",
      "---  ------            --------------  -----  \n",
      " 0   cid               21613 non-null  int64  \n",
      " 1   dayhours          21613 non-null  object \n",
      " 2   price             21613 non-null  int64  \n",
      " 3   room_bed          21505 non-null  float64\n",
      " 4   room_bath         21505 non-null  float64\n",
      " 5   living_measure    21596 non-null  float64\n",
      " 6   lot_measure       21571 non-null  float64\n",
      " 7   ceil              21571 non-null  object \n",
      " 8   coast             21612 non-null  object \n",
      " 9   sight             21556 non-null  float64\n",
      " 10  condition         21556 non-null  object \n",
      " 11  quality           21612 non-null  float64\n",
      " 12  ceil_measure      21612 non-null  float64\n",
      " 13  basement          21612 non-null  float64\n",
      " 14  yr_built          21612 non-null  object \n",
      " 15  yr_renovated      21613 non-null  int64  \n",
      " 16  zipcode           21613 non-null  int64  \n",
      " 17  lat               21613 non-null  float64\n",
      " 18  long              21613 non-null  object \n",
      " 19  living_measure15  21447 non-null  float64\n",
      " 20  lot_measure15     21584 non-null  float64\n",
      " 21  furnished         21584 non-null  float64\n",
      " 22  total_area        21584 non-null  object \n",
      "dtypes: float64(12), int64(4), object(7)\n",
      "memory usage: 3.8+ MB\n"
     ]
    }
   ],
   "source": [
    "data.info()"
   ]
  },
  {
   "cell_type": "code",
   "execution_count": 91,
   "id": "dc2440fc",
   "metadata": {},
   "outputs": [
    {
     "data": {
      "text/plain": [
       "coast               1\n",
       "quality             1\n",
       "ceil_measure        1\n",
       "basement            1\n",
       "yr_built            1\n",
       "living_measure     17\n",
       "lot_measure15      29\n",
       "furnished          29\n",
       "total_area         29\n",
       "lot_measure        42\n",
       "ceil               42\n",
       "sight              57\n",
       "condition          57\n",
       "room_bed          108\n",
       "room_bath         108\n",
       "dtype: int64"
      ]
     },
     "execution_count": 91,
     "metadata": {},
     "output_type": "execute_result"
    }
   ],
   "source": [
    "data_na = data.isna().sum() #provides all the columns having null values\n",
    "\n",
    "data_na[data_na.values>0].sort_values(ascending=True) #filter out columns having atleast 1 null values"
   ]
  },
  {
   "cell_type": "code",
   "execution_count": 105,
   "id": "193f43a0",
   "metadata": {},
   "outputs": [
    {
     "name": "stdout",
     "output_type": "stream",
     "text": [
      "<class 'pandas.core.frame.DataFrame'>\n",
      "RangeIndex: 21613 entries, 0 to 21612\n",
      "Data columns (total 20 columns):\n",
      " #   Column          Non-Null Count  Dtype  \n",
      "---  ------          --------------  -----  \n",
      " 0   price           21613 non-null  float64\n",
      " 1   room_bed        21505 non-null  float64\n",
      " 2   room_bath       21505 non-null  float64\n",
      " 3   living_measure  21596 non-null  float64\n",
      " 4   lot_measure     21571 non-null  float64\n",
      " 5   ceil            21571 non-null  object \n",
      " 6   coast           21612 non-null  object \n",
      " 7   sight           21556 non-null  float64\n",
      " 8   condition       21556 non-null  object \n",
      " 9   quality         21612 non-null  float64\n",
      " 10  ceil_measure    21612 non-null  float64\n",
      " 11  basement        21612 non-null  float64\n",
      " 12  yr_built        21612 non-null  object \n",
      " 13  yr_renovated    21613 non-null  int64  \n",
      " 14  zipcode         21613 non-null  int64  \n",
      " 15  lat             21613 non-null  float64\n",
      " 16  long            21613 non-null  object \n",
      " 17  lot_measure15   21584 non-null  float64\n",
      " 18  furnished       21584 non-null  float64\n",
      " 19  total_area      21584 non-null  object \n",
      "dtypes: float64(12), int64(2), object(6)\n",
      "memory usage: 3.3+ MB\n"
     ]
    }
   ],
   "source": [
    "data.info()"
   ]
  },
  {
   "cell_type": "markdown",
   "id": "f962f30b",
   "metadata": {},
   "source": [
    "Now if we observe the above dataset, the cid column has of no importance to our analysis,we’ll drop the customerid column."
   ]
  },
  {
   "cell_type": "code",
   "execution_count": null,
   "id": "7d27dfb4",
   "metadata": {},
   "outputs": [],
   "source": [
    "data.drop(['cid','dayhours'],axis='columns',inplace=True) "
   ]
  },
  {
   "cell_type": "code",
   "execution_count": 106,
   "id": "e79aa392",
   "metadata": {},
   "outputs": [
    {
     "data": {
      "text/plain": [
       "count    2.161300e+04\n",
       "mean     5.401822e+05\n",
       "std      3.673622e+05\n",
       "min      7.500000e+04\n",
       "25%      3.219500e+05\n",
       "50%      4.500000e+05\n",
       "75%      6.450000e+05\n",
       "max      7.700000e+06\n",
       "Name: price, dtype: float64"
      ]
     },
     "execution_count": 106,
     "metadata": {},
     "output_type": "execute_result"
    }
   ],
   "source": [
    "#datatype if price is object\n",
    "data.describe()[\"price\"]\n"
   ]
  },
  {
   "cell_type": "markdown",
   "id": "2984d656",
   "metadata": {},
   "source": [
    "\"\"\"count - The number of not-empty values.\n",
    "mean - The average (mean) value.\n",
    "std - The standard deviation.\n",
    "min - the minimum value.\n",
    "25% - The 25% percentile*.\n",
    "50% - The 50% percentile*.\n",
    "75% - The 75% percentile*.\n",
    "max - the maximum value*\"\"\""
   ]
  },
  {
   "cell_type": "code",
   "execution_count": 96,
   "id": "30f8eeba",
   "metadata": {},
   "outputs": [
    {
     "data": {
      "text/plain": [
       "array([600000, 190000, 735000, ..., 725126, 332100, 685530])"
      ]
     },
     "execution_count": 96,
     "metadata": {},
     "output_type": "execute_result"
    }
   ],
   "source": [
    "data.price.unique()"
   ]
  },
  {
   "cell_type": "code",
   "execution_count": 97,
   "id": "9e548afd",
   "metadata": {},
   "outputs": [
    {
     "data": {
      "text/plain": [
       "count    2.161300e+04\n",
       "mean     5.401822e+05\n",
       "std      3.673622e+05\n",
       "min      7.500000e+04\n",
       "25%      3.219500e+05\n",
       "50%      4.500000e+05\n",
       "75%      6.450000e+05\n",
       "max      7.700000e+06\n",
       "Name: price, dtype: float64"
      ]
     },
     "execution_count": 97,
     "metadata": {},
     "output_type": "execute_result"
    }
   ],
   "source": [
    "#Data cleaning \n",
    "#data[\"price\"]=data[\"price\"].apply(lambda x: x.replace(\"$\",\"\")) #remove dollor sign \n",
    "#data[\"price\"]=data[\"price\"].apply(lambda x: x.replace(\",\",\"\")) #replace thousand separator\n",
    "data[\"price\"]=data[\"price\"].astype(float) #cast the column into float type\n",
    "data.describe()[\"price\"]"
   ]
  },
  {
   "cell_type": "code",
   "execution_count": null,
   "id": "7c69fed8",
   "metadata": {},
   "outputs": [],
   "source": []
  },
  {
   "cell_type": "code",
   "execution_count": null,
   "id": "3c40e56d",
   "metadata": {},
   "outputs": [],
   "source": []
  }
 ],
 "metadata": {
  "kernelspec": {
   "display_name": "Python 3 (ipykernel)",
   "language": "python",
   "name": "python3"
  },
  "language_info": {
   "codemirror_mode": {
    "name": "ipython",
    "version": 3
   },
   "file_extension": ".py",
   "mimetype": "text/x-python",
   "name": "python",
   "nbconvert_exporter": "python",
   "pygments_lexer": "ipython3",
   "version": "3.10.9"
  }
 },
 "nbformat": 4,
 "nbformat_minor": 5
}
